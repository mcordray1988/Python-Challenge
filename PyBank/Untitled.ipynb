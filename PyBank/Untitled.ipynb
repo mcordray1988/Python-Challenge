{
 "cells": [
  {
   "cell_type": "code",
   "execution_count": 2,
   "metadata": {},
   "outputs": [
    {
     "name": "stdout",
     "output_type": "stream",
     "text": [
      "Total Months : 86\n",
      "Total : 38382578\n",
      "Average Change : -421574\n",
      "Greatest increase in profits : 302709\n",
      "Greatest decrease in profits : -2064109\n"
     ]
    }
   ],
   "source": [
    "import pandas as pd\n",
    "\n",
    "df = pd.read_csv('/Users/morgancordray/Desktop/03-Python/Instructions/PyBank/Resources/budget_data.csv')\n",
    "months = df['Date'].count()\n",
    "total = df['Profit/Losses'].sum()\n",
    "change = df['Profit/Losses']\n",
    "average = df['Profit/Losses']\n",
    "#prints out months and total\n",
    "print(f'Total Months : {months}')\n",
    "print(f'Total : {total}')\n",
    "# creates a new column change, which measures the change from this row compared to previous row\n",
    "for i in range(1, len(df)):\n",
    "    lastrow = 867884\n",
    "    df['change'] = pd.Series(df['Profit/Losses'] - lastrow)\n",
    "    lastrow = df['Profit/Losses']\n",
    "\n",
    "# prints mean, max and min\n",
    "print(f'Average Change : {int(df.change.mean())}')\n",
    "print(f'Greatest increase in profits : {df.change.max()}')\n",
    "print(f'Greatest decrease in profits : {df.change.min()}')\n",
    "\n",
    "file = open(\"output.txt\",\"w\")\n",
    "file.write(f'Total Months : {months}\\n')\n",
    "file.write(f'Total : {total}\\n')\n",
    "file.write(f'Average Change : {int(df.change.mean())}\\n')\n",
    "file.write(f'Greatest increase in profits : {df.change.max()}\\n')\n",
    "file.write(f'Greatest decrease in profits : {df.change.min()}')\n",
    "file.close()"
   ]
  },
  {
   "cell_type": "code",
   "execution_count": null,
   "metadata": {},
   "outputs": [],
   "source": []
  }
 ],
 "metadata": {
  "kernelspec": {
   "display_name": "Python 3",
   "language": "python",
   "name": "python3"
  },
  "language_info": {
   "codemirror_mode": {
    "name": "ipython",
    "version": 3
   },
   "file_extension": ".py",
   "mimetype": "text/x-python",
   "name": "python",
   "nbconvert_exporter": "python",
   "pygments_lexer": "ipython3",
   "version": "3.7.4"
  }
 },
 "nbformat": 4,
 "nbformat_minor": 2
}
