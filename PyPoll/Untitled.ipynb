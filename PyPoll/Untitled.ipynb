{
 "cells": [
  {
   "cell_type": "code",
   "execution_count": 6,
   "metadata": {},
   "outputs": [
    {
     "name": "stdout",
     "output_type": "stream",
     "text": [
      "Election Results\n",
      "------------------------\n",
      "Total Votes: 3521001\n",
      "------------------------\n",
      "Khan: 63.000011% (2218231)\n",
      "Correy: 19.999994% (704200)\n",
      "Li: 13.999996% (492940)\n",
      "O'Tooley: 2.999999% (105630)\n",
      "------------------------\n",
      "          Candidate      Name\n",
      "Khan        2218231      Khan\n",
      "Correy       704200    Correy\n",
      "Li           492940        Li\n",
      "O'Tooley     105630  O'Tooley\n",
      "WINNER : Khan    Khan\n",
      "Name: Name, dtype: object\n"
     ]
    }
   ],
   "source": [
    "import pandas as pd\n",
    "import sys\n",
    "\n",
    "df = pd.read_csv('/Users/morgancordray/Desktop/03-Python/Instructions/PyPoll/Resources/election_data.csv')\n",
    "voteTotal = df['Voter ID'].count()\n",
    "Khan = df[df['Candidate'] == \"Khan\"]\n",
    "Correy = df[df['Candidate'] == \"Correy\"]\n",
    "Li = df[df['Candidate'] == \"Li\"]\n",
    "OTooley = df[df['Candidate'] == \"O\\'Tooley\"]\n",
    "\n",
    "\n",
    "print(\"Election Results\")\n",
    "print(\"------------------------\")\n",
    "print(f\"Total Votes: {voteTotal}\")\n",
    "print(\"------------------------\")\n",
    "print(f\"Khan: {round((Khan.Candidate.count() / voteTotal)*100, 6)}% ({Khan.Candidate.count()})\")\n",
    "print(f\"Correy: {round((Correy.Candidate.count() / voteTotal)*100, 6)}% ({Correy.Candidate.count()})\")\n",
    "print(f\"Li: {round((Li.Candidate.count() / voteTotal)*100, 6)}% ({Li.Candidate.count()})\")\n",
    "print(f\"O\\'Tooley: {round((OTooley.Candidate.count() / voteTotal)*100, 6)}% ({OTooley.Candidate.count()})\")\n",
    "print(\"------------------------\")\n",
    "winner = pd.DataFrame(df['Candidate'].value_counts())\n",
    "winner['Name'] = winner.index\n",
    "winner.reset_index()\n",
    "print(winner.head())\n",
    "\n",
    "k = winner.loc[winner['Candidate'] == winner['Candidate'].max()]\n",
    "print (f\"WINNER : {k['Name']}\")\n",
    "file = open('textfile.txt', 'w')\n",
    "file.write(\"Election Results\\n\")\n",
    "file.write(\"------------------------\\n\")\n",
    "file.write(f\"Total Votes: {voteTotal}\\n\")\n",
    "file.write(\"------------------------\\n\")\n",
    "file.write(f\"Khan: {round((Khan.Candidate.count() / voteTotal)*100, 6)}% ({Khan.Candidate.count()})\\n\")\n",
    "file.write(f\"Correy: {round((Correy.Candidate.count() / voteTotal)*100, 6)}% ({Correy.Candidate.count()})\\n\")\n",
    "file.write(f\"Li: {round((Li.Candidate.count() / voteTotal)*100, 6)}% ({Li.Candidate.count()})\\n\")\n",
    "file.write(f\"O\\'Tooley: {round((OTooley.Candidate.count() / voteTotal)*100, 6)}% ({OTooley.Candidate.count()})\\n\")\n",
    "file.write(\"------------------------\\n\")\n",
    "file.write(f\"WINNER : {k['Name']}\")\n",
    "file.close()"
   ]
  },
  {
   "cell_type": "code",
   "execution_count": null,
   "metadata": {},
   "outputs": [],
   "source": []
  }
 ],
 "metadata": {
  "kernelspec": {
   "display_name": "Python 3",
   "language": "python",
   "name": "python3"
  },
  "language_info": {
   "codemirror_mode": {
    "name": "ipython",
    "version": 3
   },
   "file_extension": ".py",
   "mimetype": "text/x-python",
   "name": "python",
   "nbconvert_exporter": "python",
   "pygments_lexer": "ipython3",
   "version": "3.7.4"
  }
 },
 "nbformat": 4,
 "nbformat_minor": 2
}
